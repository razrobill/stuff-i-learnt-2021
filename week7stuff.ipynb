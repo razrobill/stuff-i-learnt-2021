{
  "nbformat": 4,
  "nbformat_minor": 0,
  "metadata": {
    "colab": {
      "name": "week7stuff.ipynb",
      "provenance": [],
      "authorship_tag": "ABX9TyOspFUQZrnjc70gevdi6kPo",
      "include_colab_link": true
    },
    "kernelspec": {
      "name": "python3",
      "display_name": "Python 3"
    },
    "language_info": {
      "name": "python"
    }
  },
  "cells": [
    {
      "cell_type": "markdown",
      "metadata": {
        "id": "view-in-github",
        "colab_type": "text"
      },
      "source": [
        "<a href=\"https://colab.research.google.com/github/razrobill/stuff-i-learnt-2021/blob/main/week7stuff.ipynb\" target=\"_parent\"><img src=\"https://colab.research.google.com/assets/colab-badge.svg\" alt=\"Open In Colab\"/></a>"
      ]
    },
    {
      "cell_type": "code",
      "metadata": {
        "id": "i1A7MCBUBTPS"
      },
      "source": [
        "import pandas as pd"
      ],
      "execution_count": null,
      "outputs": []
    },
    {
      "cell_type": "code",
      "metadata": {
        "id": "oDrsWMf_BXln"
      },
      "source": [
        "df=pd.read_csv(\"2021-07-west-yorkshire-street.csv\")"
      ],
      "execution_count": null,
      "outputs": []
    },
    {
      "cell_type": "code",
      "metadata": {
        "id": "ZzvfUvqGBaWJ"
      },
      "source": [
        "#a. print number of rows in dataset\n",
        "df.info()\n",
        "len(df)\n",
        "print(len(df))"
      ],
      "execution_count": null,
      "outputs": []
    },
    {
      "cell_type": "code",
      "metadata": {
        "id": "QBOHttvaBcqQ"
      },
      "source": [
        "#b. print columns names present in dataset\n",
        "for col in df.columns:\n",
        "  print(col)"
      ],
      "execution_count": null,
      "outputs": []
    },
    {
      "cell_type": "code",
      "metadata": {
        "id": "SEJ-zqf4BetC"
      },
      "source": [
        "# c. Check for missing values in the dataset\n",
        "df.isnull().sum()\n",
        "#they are all missing context"
      ],
      "execution_count": null,
      "outputs": []
    },
    {
      "cell_type": "code",
      "metadata": {
        "id": "PTJ33YRWBgkr"
      },
      "source": [
        "# d. Remove the columns 'Context' and drop rows with missing values for Crime ID\n",
        "df=df.drop(\"Context\", axis=1)\n",
        "df.columns\n",
        "df=df[df[\"Crime ID\"].notnull()]"
      ],
      "execution_count": null,
      "outputs": []
    },
    {
      "cell_type": "code",
      "metadata": {
        "id": "v09M6-KwBi8L"
      },
      "source": [
        "# e. Display first 10 rows of the dataframe\n",
        "df[:10]"
      ],
      "execution_count": null,
      "outputs": []
    },
    {
      "cell_type": "code",
      "metadata": {
        "id": "UgLJ8ePhBl9c"
      },
      "source": [
        "# f. Get the top 5 crime types by value\n",
        "df['Crime type'].value_counts()[:5]"
      ],
      "execution_count": null,
      "outputs": []
    },
    {
      "cell_type": "code",
      "metadata": {
        "id": "HmPXpjkSBmkk"
      },
      "source": [
        "# g. Check for columns containing the same value for the entire dataframe and remove them entirely from the dataframe"
      ],
      "execution_count": null,
      "outputs": []
    },
    {
      "cell_type": "code",
      "metadata": {
        "id": "s_qAgzHuBoyN"
      },
      "source": [
        "# h. Create a new columns 'City' by extracting the town name from LSOA name.\n",
        "## Hint: The string value can be split by delimiter \" \" i.e. string value before a blank space can be extracted to create the column 'Town_name'"
      ],
      "execution_count": null,
      "outputs": []
    },
    {
      "cell_type": "code",
      "metadata": {
        "id": "MXiwty18Bq0G"
      },
      "source": [
        "# i. List the top 5 cities by count of crimes\n",
        "df['']"
      ],
      "execution_count": null,
      "outputs": []
    },
    {
      "cell_type": "code",
      "metadata": {
        "id": "N8RjzfckBsr4"
      },
      "source": [
        "#j. Produce a graph to show the % distribution of crime types for the city with the most number of crimes\n",
        "\n",
        "# Hint: Step 1- create a dataframe from the city with the most number of crimes\n",
        "\n",
        "# Step 2- plot pie chart"
      ],
      "execution_count": null,
      "outputs": []
    }
  ]
}